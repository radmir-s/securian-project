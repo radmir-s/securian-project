{
 "cells": [
  {
   "cell_type": "markdown",
   "metadata": {},
   "source": [
    "Model"
   ]
  },
  {
   "cell_type": "code",
   "execution_count": 1,
   "metadata": {},
   "outputs": [],
   "source": [
    "import random\n",
    "import numpy as np\n",
    "from gmab_model import  read_shock_data\n",
    "import matplotlib.pyplot as plt\n",
    "\n",
    "import gmab_model\n",
    "from gmab_model import set_world\n",
    "from gmab_model import vec_rollforward, vec_GMAB, vec_GMAB_ratchet\n",
    "from gmab_model import delta, rho\n",
    "from gmab_model import value_by_rep, value_by_error, value_by_precision\n",
    "from gmab_model import shock_value, write_shock_data, read_shock_data\n",
    "\n",
    "\n",
    "def averages(file, N, delrho, policy, R):\n",
    "    world = read_shock_data(file)[0] + (None,)\n",
    "    shock_dat = read_shock_data(file)[1]\n",
    "\n",
    "    range_r=21                                          # number of r shocks\n",
    "    range_s=31                                          # number of s shocks\n",
    "\n",
    "    SR=np.array([[shock_dat[r+s*range_r][0] for r in range(range_r)] for s in range(range_s)])\n",
    "    V=np.array([[shock_dat[r+s*range_r][2][0] for r in range(range_r)] for s in range(range_s)])\n",
    "    \n",
    "    a0, b0, a1, b1, a2, b2, a3, b3, a4, b4 = 2, 2, 4, 20, 16, 11, 28, 0, 28, 16\n",
    "    \n",
    "    t_max = 10 # t in years\n",
    "    dt = 1/252\n",
    "    args = 0,10,np.ones(int(t_max/dt)+1),R,0,.01\n",
    "        \n",
    "    shocks = [tuple(SR[a0, b0]),tuple(SR[a1, b1]),tuple(SR[a2, b2]),tuple(SR[a3, b3]),tuple(SR[a4, b4])]\n",
    "    raw = shock_value(world, shocks, value_by_rep, N ,delrho, .001, policy, *args)\n",
    "\n",
    "    B = np.zeros(5)\n",
    "    for i in range(5):\n",
    "        B[i] = raw[i][2][0]\n",
    "        \n",
    "    MCNoise = (abs(V[a0,b0]-B[0]) + abs(V[a1,b1]-B[1]) + abs(V[a2,b2]-B[2])+ abs(V[a3,b3]-B[3])+ abs(V[a4,b4]-B[4]))/5\n",
    "    \n",
    "    P = np.zeros((5,2), dtype = int)\n",
    "    P[0] = a0, b0\n",
    "    P[1] = a1, b1\n",
    "    P[2] = a2, b2\n",
    "    P[3] = a3, b3\n",
    "    P[4] = a4, b4\n",
    "\n",
    "    srp = np.zeros((5,2), dtype = float)\n",
    "    for i in range(5):\n",
    "        for j in range(2):\n",
    "            srp[i,j] = SR[P[i,0],P[i,1],j]\n",
    "        \n",
    "    Q = (srp-srp[0])[1:]\n",
    "\n",
    "    W = np.zeros((4,4),dtype=float)\n",
    "    for i in range(4):\n",
    "        W[i] = Q[i,0], Q[i,1], Q[i,0]**2, Q[i,0]*Q[i,1]\n",
    "\n",
    "    s0 , r0 = SR[P[0,0],P[0,1]]\n",
    "    v0 = B[0]\n",
    "\n",
    "    C = B[1:]- v0\n",
    "    L = np.linalg.solve(W, C)\n",
    "    \n",
    "    def estimate(sx,rx):\n",
    "        return v0 + L[0] * (sx-s0) + L[1] * (rx-r0) + L[2] * (sx-s0)**2 + L[3] * (sx-s0) * (rx-r0)\n",
    "    \n",
    "    predicts = np.array([[ estimate(SR[s,r,0],SR[s,r,1]) for r in range(range_r)]for s in range(range_s)])\n",
    "    \n",
    "    percent = np.sum(np.abs(V - predicts)/V) / (range_s * range_r)\n",
    "    \n",
    "    return percent\n",
    "\n",
    "def percent_error(file, delrho, policy, R, N, cycles):\n",
    "    av_percent = 0\n",
    "    for i in range(cycles):\n",
    "        av_percent += averages(file, N, delrho, policy, R) * 100\n",
    "\n",
    "    av_percent /= cycles\n",
    "    return av_percent"
   ]
  },
  {
   "cell_type": "markdown",
   "metadata": {},
   "source": [
    "Delta with ratchet"
   ]
  },
  {
   "cell_type": "code",
   "execution_count": 58,
   "metadata": {},
   "outputs": [],
   "source": [
    "def MC_delta_ratchet(MC):\n",
    "    av_percent = 0\n",
    "    for sample in ['sample2_delta_.csv','sample3_delta_.csv', 'sample4_delta_.csv', 'sample5_delta_.csv']:\n",
    "        av_percent += percent_error(sample,delta, vec_GMAB_ratchet, 0.045, MC, 35)\n",
    "    av_percent /= 4\n",
    "    return (20*MC,av_percent)"
   ]
  },
  {
   "cell_type": "code",
   "execution_count": 59,
   "metadata": {},
   "outputs": [
    {
     "data": {
      "text/plain": [
       "[(2000, 3.9291800649347577),\n",
       " (6000, 2.3157696061765236),\n",
       " (10000, 1.6898969832355544),\n",
       " (14000, 1.5380746871123379),\n",
       " (18000, 1.292823006158918),\n",
       " (22000, 1.1843727079610231),\n",
       " (26000, 1.0424807850806528),\n",
       " (30000, 0.9941303866659221),\n",
       " (34000, 0.9405395007581159),\n",
       " (38000, 0.8704619049271584)]"
      ]
     },
     "execution_count": 59,
     "metadata": {},
     "output_type": "execute_result"
    }
   ],
   "source": [
    "[MC_delta_ratchet(MC) for MC in range(100, 2000, 200)]"
   ]
  },
  {
   "cell_type": "markdown",
   "metadata": {},
   "source": [
    "Rho with ratchet"
   ]
  },
  {
   "cell_type": "code",
   "execution_count": 56,
   "metadata": {},
   "outputs": [],
   "source": [
    "def MC_rho_ratchet(MC):\n",
    "    av_percent = 0\n",
    "    for sample in ['sample2_rho_.csv','sample3_rho_.csv', 'sample4_rho_.csv', 'sample5_rho_.csv']:\n",
    "        av_percent += percent_error(sample, rho, vec_GMAB_ratchet, 0.045, MC, 35)\n",
    "    av_percent /= 4\n",
    "    return (20*MC,av_percent)"
   ]
  },
  {
   "cell_type": "code",
   "execution_count": 57,
   "metadata": {},
   "outputs": [
    {
     "data": {
      "text/plain": [
       "[(2000, 1.7916492329875517),\n",
       " (6000, 1.0780971320865025),\n",
       " (10000, 0.8608442450462597),\n",
       " (14000, 0.714551497811651),\n",
       " (18000, 0.6517185452973335),\n",
       " (22000, 0.5995404032381145),\n",
       " (26000, 0.5257250676155882),\n",
       " (30000, 0.48312410603231776),\n",
       " (34000, 0.4579180015993267),\n",
       " (38000, 0.44490003075633683)]"
      ]
     },
     "execution_count": 57,
     "metadata": {},
     "output_type": "execute_result"
    }
   ],
   "source": [
    "[MC_rho_ratchet(MC) for MC in range(100, 2000, 200)]"
   ]
  },
  {
   "cell_type": "markdown",
   "metadata": {},
   "source": [
    "Delta without ratchet"
   ]
  },
  {
   "cell_type": "code",
   "execution_count": 48,
   "metadata": {},
   "outputs": [],
   "source": [
    "def MC_delta_gmab(MC):\n",
    "    av_percent = 0\n",
    "    for sample in ['sample6_delta_.csv','sample7_delta_.csv', 'sample8_delta_.csv', 'sample9_delta_.csv']:\n",
    "        av_percent += percent_error(sample,delta, vec_GMAB, 0.038, MC, 35)\n",
    "    av_percent /= 4\n",
    "    return (20*MC,av_percent)"
   ]
  },
  {
   "cell_type": "code",
   "execution_count": 49,
   "metadata": {},
   "outputs": [
    {
     "data": {
      "text/plain": [
       "[(100, 3.5413067037672517),\n",
       " (300, 2.092011450588231),\n",
       " (500, 1.5424414219858902),\n",
       " (700, 1.3635568540210508),\n",
       " (900, 1.142939530601727),\n",
       " (1100, 1.0745364381477485),\n",
       " (1300, 0.9643780108619049),\n",
       " (1500, 0.8805876480450663),\n",
       " (1700, 0.861526307734736),\n",
       " (1900, 0.785490232708578)]"
      ]
     },
     "execution_count": 49,
     "metadata": {},
     "output_type": "execute_result"
    }
   ],
   "source": [
    "[MC_delta_gmab(MC) for MC in range(100, 2000, 200)]"
   ]
  },
  {
   "cell_type": "code",
   "execution_count": 55,
   "metadata": {},
   "outputs": [
    {
     "data": {
      "text/plain": [
       "[(2000, 3.5413067037672517),\n",
       " (6000, 2.092011450588231),\n",
       " (10000, 1.5424414219858902),\n",
       " (14000, 1.3635568540210508),\n",
       " (18000, 1.142939530601727),\n",
       " (22000, 1.0745364381477485),\n",
       " (26000, 0.9643780108619049),\n",
       " (30000, 0.8805876480450663),\n",
       " (34000, 0.861526307734736),\n",
       " (38000, 0.785490232708578)]"
      ]
     },
     "execution_count": 55,
     "metadata": {},
     "output_type": "execute_result"
    }
   ],
   "source": [
    "b = [(100, 3.5413067037672517),\n",
    " (300, 2.092011450588231),\n",
    " (500, 1.5424414219858902),\n",
    " (700, 1.3635568540210508),\n",
    " (900, 1.142939530601727),\n",
    " (1100, 1.0745364381477485),\n",
    " (1300, 0.9643780108619049),\n",
    " (1500, 0.8805876480450663),\n",
    " (1700, 0.861526307734736),\n",
    " (1900, 0.785490232708578)]\n",
    "[(20*i,j) for (i,j) in b]"
   ]
  },
  {
   "cell_type": "markdown",
   "metadata": {},
   "source": [
    "Rho without ratchet"
   ]
  },
  {
   "cell_type": "code",
   "execution_count": 50,
   "metadata": {},
   "outputs": [],
   "source": [
    "def MC_rho_gmab(MC):\n",
    "    av_percent = 0\n",
    "    for sample in ['sample6_rho_.csv','sample7_rho_.csv', 'sample8_rho_.csv', 'sample9_rho_.csv']:\n",
    "        av_percent += percent_error(sample,rho, vec_GMAB, 0.038, MC, 35)\n",
    "    av_percent /= 4\n",
    "    return (20*MC,av_percent)"
   ]
  },
  {
   "cell_type": "code",
   "execution_count": 51,
   "metadata": {},
   "outputs": [
    {
     "data": {
      "text/plain": [
       "[(100, 3.7523949858140266),\n",
       " (300, 2.2686008231528234),\n",
       " (500, 1.614042100466718),\n",
       " (700, 1.319706634350028),\n",
       " (900, 1.3140606504024448),\n",
       " (1100, 1.1304517058734014),\n",
       " (1300, 0.9818072836881715),\n",
       " (1500, 0.8901387149131978),\n",
       " (1700, 0.8519051070288903),\n",
       " (1900, 0.7947895999664009)]"
      ]
     },
     "execution_count": 51,
     "metadata": {},
     "output_type": "execute_result"
    }
   ],
   "source": [
    "[MC_rho_gmab(MC) for MC in range(100, 2000, 200)]"
   ]
  },
  {
   "cell_type": "code",
   "execution_count": 54,
   "metadata": {},
   "outputs": [
    {
     "data": {
      "text/plain": [
       "[(2000, 3.7523949858140266),\n",
       " (6000, 2.2686008231528234),\n",
       " (10000, 1.614042100466718),\n",
       " (14000, 1.319706634350028),\n",
       " (18000, 1.3140606504024448),\n",
       " (22000, 1.1304517058734014),\n",
       " (26000, 0.9818072836881715),\n",
       " (30000, 0.8901387149131978),\n",
       " (34000, 0.8519051070288903),\n",
       " (38000, 0.7947895999664009)]"
      ]
     },
     "execution_count": 54,
     "metadata": {},
     "output_type": "execute_result"
    }
   ],
   "source": [
    "a=[(100, 3.7523949858140266),\n",
    " (300, 2.2686008231528234),\n",
    " (500, 1.614042100466718),\n",
    " (700, 1.319706634350028),\n",
    " (900, 1.3140606504024448),\n",
    " (1100, 1.1304517058734014),\n",
    " (1300, 0.9818072836881715),\n",
    " (1500, 0.8901387149131978),\n",
    " (1700, 0.8519051070288903),\n",
    " (1900, 0.7947895999664009)]\n",
    "[(20*i,j) for (i,j) in a]"
   ]
  }
 ],
 "metadata": {
  "kernelspec": {
   "display_name": "Python 3",
   "language": "python",
   "name": "python3"
  },
  "language_info": {
   "codemirror_mode": {
    "name": "ipython",
    "version": 3
   },
   "file_extension": ".py",
   "mimetype": "text/x-python",
   "name": "python",
   "nbconvert_exporter": "python",
   "pygments_lexer": "ipython3",
   "version": "3.7.6"
  }
 },
 "nbformat": 4,
 "nbformat_minor": 4
}
