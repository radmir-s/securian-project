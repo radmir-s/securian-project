{
 "cells": [
  {
   "cell_type": "markdown",
   "metadata": {},
   "source": [
    "# GMAB description "
   ]
  },
  {
   "cell_type": "markdown",
   "metadata": {},
   "source": [
    "## Variable Annuity\n",
    "\n",
    "A Variable Annuity (VA) is a form of investmen contract made between an investor (or policy holder) and an insurance company.  Generically, the policy holder deposits an amount $A_0$ into the policy at time $t=0$.\n",
    "The funds are then invested into an equity based fund with value $S(t)$.\n",
    "\n",
    "Over time, the insurance company will take charges from the account (typically as a percetage of the Account Value $A(t)$, but otherwise, the Account Value will grow with growth of the equity fund.\n",
    "\n",
    "\n",
    "Basic notation and mechanics:\n",
    "\n",
    "Time in years:  $t$ \n",
    "\n",
    "Equity Fund:  $S(t)$\n",
    "\n",
    "Account Value:  $A(t)$\n",
    "\n",
    "Time steps (daily):  $\\Delta t = \\frac{1}{252}$   (Can be different than daily but for now, we will use daily)\n",
    "\n",
    "Insurer expense charge (annualized): $\\mathit{ec}  $  \n",
    "\n",
    "Insurer daily expense charge :  $\\mathit{dec} = \\mathit{ec} \\times \\Delta t$\n",
    "\n",
    "### roll forward\n",
    "\n",
    "From time $t$ to time $t + \\Delta t$, we account value will change as folllows:\n",
    "\n",
    "$A(t + \\Delta t )  = A(t) \\times  \\left( \\frac{S(t + \\Delta t)}{S(t)}    - \\mathit{dec} \\right)$\n",
    "\n",
    "\n",
    "\n",
    "\n",
    "\n"
   ]
  },
  {
   "cell_type": "markdown",
   "metadata": {},
   "source": [
    "## Guaranteed Minimum Account Benefit"
   ]
  },
  {
   "cell_type": "markdown",
   "metadata": {},
   "source": [
    "As a way to make this investment more attractive, the insurer will often attach a benefit that protect against equity market downside.  A very common one is what is called a Guaranteed Minimum Account Benefit (GMAB).  We will start with a very basic and common versions: the 10 year GMAB.  \n",
    "\n",
    "After 10 years, the insurer will observe the value $A(10)$. \n",
    "\n",
    "If $A(10) < A(0)$ (meaning the investment has lost value), the insurer will make up the difference to return the policy to it's initial value.  That is is,\n",
    "\n",
    "At $t= 10$, $A(10) \\rightarrow  A(10) + \\mathit{GMAB(10)}$ where $\\mathit{GMAB(10)} =  \\mathrm{Max}[A(0) - A(10) , 0]$ \n",
    "\n",
    "\n"
   ]
  },
  {
   "cell_type": "markdown",
   "metadata": {},
   "source": [
    "Those familier with financial optoins will recognize this as essentilly a Eurpean Put Option.  "
   ]
  },
  {
   "cell_type": "markdown",
   "metadata": {},
   "source": [
    "Of course, this additional benefit comes at a cost.  The insurer will recover this cost by increasing the expense charge $\\mathit{ec}$ by an additional amount $\\mathit{rc}$ called the rider charge. In this case, the rollforwad (prior to year 10) becomes:\n",
    "\n",
    "$A(t + \\Delta t )  = A(t) \\times  \\left( \\frac{S(t + \\Delta t)}{S(t)}    - (\\mathit{dec + drc}) \\right)$"
   ]
  },
  {
   "cell_type": "markdown",
   "metadata": {},
   "source": [
    "We denote the variables $\\mathit{rc}$ and $\\mathit{rc}$ separately because the GMAB benefit is typically an additional benefit that the policy elects to add to the base contract at the  policy inception.  The insurer seeks to ensure that the value of the *rider charges* covers the costs of the GMAB benefit.\n"
   ]
  },
  {
   "cell_type": "markdown",
   "metadata": {},
   "source": [
    "## Valuation\n"
   ]
  },
  {
   "cell_type": "markdown",
   "metadata": {},
   "source": [
    "In order to price and manage the risk of these products, the insurance comnpany will perform Monte Carlo simulation of the underlying equity fund $S(t)$.  In certain cases, a closed form solution may exist.  However, this is not true in general because the Guarantees are typically much more comnplicated than a European put (which does have a closed form solution)."
   ]
  },
  {
   "cell_type": "markdown",
   "metadata": {},
   "source": [
    "## Ratchet feature\n",
    "\n",
    "One common enhancement to the GMAB to causes the option to no longer have a closed form solution is what is commonly called a \"ratchet\" feature.  \n",
    "This feature will look at the policy holder value at each anniversary, and if the Account Value $A(t)$ has increased over the previous guaranteed amount, the guaranteed amount is \"ratchted\" up accordingly.\n",
    "\n",
    "\n"
   ]
  },
  {
   "cell_type": "markdown",
   "metadata": {},
   "source": [
    "In math terms, denote the quantity $BB(t)$ to refer to the benefit base. We set,\n",
    "\n",
    "$BB(0) = A(0)$\n",
    "\n",
    "$BB(t + \\Delta t) = BB(t)$ for $t+  \\Delta t   \\neq 0 \\,  \\mathrm{mod} \\: 252$\n",
    "\n",
    "$BB(t + \\Delta t) = \\mathrm{Max}[BB(t), A(t + \\Delta t)]$ for $t+  \\Delta t   = 0 \\:  \\mathrm{mod} \\, 252$\n",
    "\n",
    "\n",
    "\n"
   ]
  },
  {
   "cell_type": "markdown",
   "metadata": {},
   "source": [
    "Then at $t= 10$,  $A(10) \\rightarrow  A(10) + \\mathit{GMAB(10)}$ where $\\mathit{GMAB(10)} =  \\mathrm{Max}[BB(10) - A(10) , 0]$ "
   ]
  },
  {
   "cell_type": "code",
   "execution_count": null,
   "metadata": {},
   "outputs": [],
   "source": []
  }
 ],
 "metadata": {
  "kernelspec": {
   "display_name": "Python 3",
   "language": "python",
   "name": "python3"
  },
  "language_info": {
   "codemirror_mode": {
    "name": "ipython",
    "version": 3
   },
   "file_extension": ".py",
   "mimetype": "text/x-python",
   "name": "python",
   "nbconvert_exporter": "python",
   "pygments_lexer": "ipython3",
   "version": "3.7.6"
  }
 },
 "nbformat": 4,
 "nbformat_minor": 4
}
